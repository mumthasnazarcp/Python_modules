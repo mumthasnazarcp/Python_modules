{
 "cells": [
  {
   "cell_type": "code",
   "execution_count": null,
   "id": "dba3f105-d704-4ee6-b0de-19f0d94e34f6",
   "metadata": {},
   "outputs": [
    {
     "name": "stdout",
     "output_type": "stream",
     "text": [
      "\n",
      "Welcome to the Banking System\n",
      "1. Create Account\n",
      "2. Login to Account\n",
      "3. Exit\n"
     ]
    },
    {
     "name": "stdin",
     "output_type": "stream",
     "text": [
      "Enter your choice:  1\n",
      "Enter a unique account number:  12345\n",
      "Enter account holder name:  mummu\n"
     ]
    },
    {
     "name": "stdout",
     "output_type": "stream",
     "text": [
      "Account created successfully for mummu.\n",
      "\n",
      "Welcome to the Banking System\n",
      "1. Create Account\n",
      "2. Login to Account\n",
      "3. Exit\n"
     ]
    },
    {
     "name": "stdin",
     "output_type": "stream",
     "text": [
      "Enter your choice:  2\n",
      "Enter your account number:  12345\n"
     ]
    },
    {
     "name": "stdout",
     "output_type": "stream",
     "text": [
      "\n",
      "Account Menu\n",
      "1. Deposit\n",
      "2. Withdraw\n",
      "3. Check Balance\n",
      "4. Logout\n"
     ]
    },
    {
     "name": "stdin",
     "output_type": "stream",
     "text": [
      "Enter your choice:  1\n",
      "Enter amount to deposit:  200\n"
     ]
    },
    {
     "name": "stdout",
     "output_type": "stream",
     "text": [
      "Amount of 200.0 deposited successfully. New balance: 200.0\n",
      "\n",
      "Account Menu\n",
      "1. Deposit\n",
      "2. Withdraw\n",
      "3. Check Balance\n",
      "4. Logout\n"
     ]
    },
    {
     "name": "stdin",
     "output_type": "stream",
     "text": [
      "Enter your choice:  3\n"
     ]
    },
    {
     "name": "stdout",
     "output_type": "stream",
     "text": [
      "Current balance: 200.0\n",
      "\n",
      "Account Menu\n",
      "1. Deposit\n",
      "2. Withdraw\n",
      "3. Check Balance\n",
      "4. Logout\n"
     ]
    },
    {
     "name": "stdin",
     "output_type": "stream",
     "text": [
      "Enter your choice:  2\n",
      "Enter amount to withdraw:  100\n"
     ]
    },
    {
     "name": "stdout",
     "output_type": "stream",
     "text": [
      "Amount of 100.0 withdrawn successfully. Remaining balance: 100.0\n",
      "\n",
      "Account Menu\n",
      "1. Deposit\n",
      "2. Withdraw\n",
      "3. Check Balance\n",
      "4. Logout\n"
     ]
    },
    {
     "name": "stdin",
     "output_type": "stream",
     "text": [
      "Enter your choice:  4\n"
     ]
    },
    {
     "name": "stdout",
     "output_type": "stream",
     "text": [
      "Logged out successfully.\n",
      "\n",
      "Welcome to the Banking System\n",
      "1. Create Account\n",
      "2. Login to Account\n",
      "3. Exit\n"
     ]
    }
   ],
   "source": [
    "class BankAccount:\n",
    "    def __init__(self, account_number, account_holder, balance=0):\n",
    "        self.account_number = account_number\n",
    "        self.account_holder = account_holder\n",
    "        self.balance = balance\n",
    "\n",
    "    def deposit(self, amount):\n",
    "        if amount > 0:\n",
    "            self.balance += amount\n",
    "            print(f\"Amount of {amount} deposited successfully. New balance: {self.balance}\")\n",
    "        else:\n",
    "            print(\"Invalid amount. Please enter a positive value.\")\n",
    "\n",
    "    def withdraw(self, amount):\n",
    "        if amount > self.balance:\n",
    "            print(\"Insufficient balance.\")\n",
    "        elif amount <= 0:\n",
    "            print(\"Invalid amount. Please enter a positive value.\")\n",
    "        else:\n",
    "            self.balance -= amount\n",
    "            print(f\"Amount of {amount} withdrawn successfully. Remaining balance: {self.balance}\")\n",
    "\n",
    "    def check_balance(self):\n",
    "        print(f\"Current balance: {self.balance}\")\n",
    "\n",
    "\n",
    "class BankingSystem:\n",
    "    def __init__(self):\n",
    "        self.accounts = {}\n",
    "\n",
    "    def create_account(self, account_number, account_holder):\n",
    "        if account_number in self.accounts:\n",
    "            print(\"Account with this number already exists.\")\n",
    "        else:\n",
    "            self.accounts[account_number] = BankAccount(account_number, account_holder)\n",
    "            print(f\"Account created successfully for {account_holder}.\")\n",
    "\n",
    "    def login(self, account_number):\n",
    "        if account_number in self.accounts:\n",
    "            return self.accounts[account_number]\n",
    "        else:\n",
    "            print(\"Invalid account number. Please try again.\")\n",
    "            return None\n",
    "\n",
    "\n",
    "# Main program\n",
    "def main():\n",
    "    banking_system = BankingSystem()\n",
    "\n",
    "    while True:\n",
    "        print(\"\\nWelcome to the Banking System\")\n",
    "        print(\"1. Create Account\")\n",
    "        print(\"2. Login to Account\")\n",
    "        print(\"3. Exit\")\n",
    "\n",
    "        choice = input(\"Enter your choice: \")\n",
    "\n",
    "        if choice == \"1\":\n",
    "            account_number = input(\"Enter a unique account number: \")\n",
    "            account_holder = input(\"Enter account holder name: \")\n",
    "            banking_system.create_account(account_number, account_holder)\n",
    "\n",
    "        elif choice == \"2\":\n",
    "            account_number = input(\"Enter your account number: \")\n",
    "            account = banking_system.login(account_number)\n",
    "\n",
    "            if account:\n",
    "                while True:\n",
    "                    print(\"\\nAccount Menu\")\n",
    "                    print(\"1. Deposit\")\n",
    "                    print(\"2. Withdraw\")\n",
    "                    print(\"3. Check Balance\")\n",
    "                    print(\"4. Logout\")\n",
    "\n",
    "                    account_choice = input(\"Enter your choice: \")\n",
    "\n",
    "                    if account_choice == \"1\":\n",
    "                        amount = float(input(\"Enter amount to deposit: \"))\n",
    "                        account.deposit(amount)\n",
    "\n",
    "                    elif account_choice == \"2\":\n",
    "                        amount = float(input(\"Enter amount to withdraw: \"))\n",
    "                        account.withdraw(amount)\n",
    "\n",
    "                    elif account_choice == \"3\":\n",
    "                        account.check_balance()\n",
    "\n",
    "                    elif account_choice == \"4\":\n",
    "                        print(\"Logged out successfully.\")\n",
    "                        break\n",
    "\n",
    "                    else:\n",
    "                        print(\"Invalid choice. Please try again.\")\n",
    "\n",
    "        elif choice == \"3\":\n",
    "            print(\"Thank you for using the Banking System. Goodbye!\")\n",
    "            break\n",
    "\n",
    "        else:\n",
    "            print(\"Invalid choice. Please try again.\")\n",
    "\n",
    "\n",
    "if __name__ == \"__main__\":\n",
    "    main()\n",
    "\n"
   ]
  },
  {
   "cell_type": "code",
   "execution_count": null,
   "id": "a4cc017b-7614-4343-80b5-e09cb051a371",
   "metadata": {},
   "outputs": [],
   "source": []
  }
 ],
 "metadata": {
  "kernelspec": {
   "display_name": "Python 3 (ipykernel)",
   "language": "python",
   "name": "python3"
  },
  "language_info": {
   "codemirror_mode": {
    "name": "ipython",
    "version": 3
   },
   "file_extension": ".py",
   "mimetype": "text/x-python",
   "name": "python",
   "nbconvert_exporter": "python",
   "pygments_lexer": "ipython3",
   "version": "3.12.4"
  }
 },
 "nbformat": 4,
 "nbformat_minor": 5
}
